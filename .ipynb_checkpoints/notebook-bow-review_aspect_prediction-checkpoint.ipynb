{
 "cells": [
  {
   "cell_type": "code",
   "execution_count": null,
   "id": "69309e6e-a436-4373-b0c1-9cac7feec4fd",
   "metadata": {},
   "outputs": [],
   "source": [
    "import json\n",
    "import time\n",
    "import torch\n",
    "import random\n",
    "import numpy as np\n",
    "import pandas as pd\n",
    "\n",
    "from tqdm import tqdm\n",
    "from collections import Counter, defaultdict\n",
    "from torch.utils.data import DataLoader, Dataset\n",
    "from transformers import AutoTokenizer, AutoModelForSequenceClassification, AdamW\n",
    "from sklearn.metrics import accuracy_score, precision_recall_fscore_support, classification_report\n",
    "from utils import *"
   ]
  },
  {
   "cell_type": "code",
   "execution_count": null,
   "id": "ab98df52-b2fd-4703-b285-0617b45bb118",
   "metadata": {},
   "outputs": [],
   "source": [
    "from sklearn.feature_extraction.text import CountVectorizer\n",
    "from sklearn.ensemble import RandomForestClassifier\n",
    "from sklearn.multiclass import OneVsRestClassifier"
   ]
  },
  {
   "cell_type": "code",
   "execution_count": null,
   "id": "1347a413-057b-4795-9750-cd233ffe5cf1",
   "metadata": {},
   "outputs": [],
   "source": [
    "type_of_labels = 'fine'\n",
    "column_name = 'COARSE'\n",
    "if type_of_labels == 'fine':\n",
    "    column_name = 'FINE'\n",
    "category_to_aspect = pd.read_csv(f'aspects - {type_of_labels}.csv')\n",
    "aspect_to_category = defaultdict(set)\n",
    "for i in range(len(category_to_aspect)):\n",
    "    aspect_to_category[category_to_aspect['LLM annotation'].to_list()[i]].add(category_to_aspect[column_name].to_list()[i])"
   ]
  },
  {
   "cell_type": "code",
   "execution_count": null,
   "id": "42fb519a-3d13-410d-b8a4-a4b03c7db67a",
   "metadata": {},
   "outputs": [],
   "source": [
    "texts, labels, aspects, counter = [], [], [], Counter()\n",
    "annotation = pd.read_csv('annotation - llm.csv')\n",
    "for i in range(len(annotation)):\n",
    "    texts.append(annotation['review'].tolist()[i])\n",
    "    label = merge_synonyms(str(annotation['annotation_1'].tolist()[i]).replace(' and ', ', ').split(', '))\n",
    "    labels.append(label)\n",
    "    aspects.extend(label)\n",
    "    counter.update(label)"
   ]
  },
  {
   "cell_type": "code",
   "execution_count": null,
   "id": "175580c6-bc5d-4ca3-8e1b-cb5ac67973c1",
   "metadata": {},
   "outputs": [],
   "source": [
    "categories = ['-']\n",
    "for aspect, category in aspect_to_category.items():\n",
    "    categories.extend(list(category))\n",
    "categories = list(set(categories))\n",
    "labels_one_hot = []\n",
    "for item in labels:\n",
    "    output = np.zeros(len(categories))\n",
    "    for aspect in item:\n",
    "        if aspect in aspect_to_category:\n",
    "            for category in aspect_to_category[aspect]:\n",
    "                output[categories.index(category)] = 1\n",
    "    if not output.any():\n",
    "        output[categories.index('-')] = 1\n",
    "    labels_one_hot.append(output)"
   ]
  },
  {
   "cell_type": "code",
   "execution_count": null,
   "id": "d4fa558d-295c-4b39-94dd-56918d964faf",
   "metadata": {},
   "outputs": [],
   "source": [
    "vectorizer = CountVectorizer(max_features=5000)\n",
    "X = vectorizer.fit_transform(texts)"
   ]
  },
  {
   "cell_type": "code",
   "execution_count": null,
   "id": "c0471444-88d6-4cbc-9826-0727d010b073",
   "metadata": {},
   "outputs": [],
   "source": [
    "number_of_data = int(len(texts)*0.9)\n",
    "train_texts = X[:number_of_data]\n",
    "train_labels = labels_one_hot[:number_of_data]\n",
    "eval_texts = X[number_of_data:]\n",
    "eval_labels = labels_one_hot[number_of_data:]"
   ]
  },
  {
   "cell_type": "code",
   "execution_count": null,
   "id": "6465f896-742a-4c65-86e0-50784301ae53",
   "metadata": {},
   "outputs": [],
   "source": [
    "seed = 2266\n",
    "classifier = OneVsRestClassifier(RandomForestClassifier(n_estimators=100, random_state=seed))\n",
    "classifier.fit(train_texts, train_labels)"
   ]
  },
  {
   "cell_type": "code",
   "execution_count": null,
   "id": "b3525852-c2c5-44cf-b30c-2e3f0d3c2ec8",
   "metadata": {},
   "outputs": [],
   "source": [
    "predictions_one_hot = classifier.predict(eval_texts)\n",
    "print(classification_report(eval_labels, predictions_one_hot, target_names=categories, zero_division=0))\n",
    "precision_weighted, recall_weighted, f1_weighted, _ = precision_recall_fscore_support(eval_labels, predictions_one_hot, average='weighted', zero_division=0)\n",
    "print(round(precision_weighted, 4), round(recall_weighted, 4), round(f1_weighted, 4))"
   ]
  },
  {
   "cell_type": "code",
   "execution_count": null,
   "id": "c93f1f3c-2af1-4692-9d97-47ff0f82a585",
   "metadata": {},
   "outputs": [],
   "source": [
    "actuals, predictions = [], []\n",
    "for item in eval_labels:\n",
    "    actual = []\n",
    "    for i in range(len(item)):\n",
    "        if item[i] == 1:\n",
    "            actual.append(categories[i])\n",
    "    actuals.append(actual)\n",
    "\n",
    "for item in predictions_one_hot:\n",
    "    prediction = []\n",
    "    for i in range(len(item)):\n",
    "        if item[i] == 1:\n",
    "            prediction.append(categories[i])\n",
    "    predictions.append(prediction)"
   ]
  },
  {
   "cell_type": "code",
   "execution_count": null,
   "id": "d5ac2b50-22d7-448b-9c5f-ed907b35d568",
   "metadata": {},
   "outputs": [],
   "source": [
    "similarity = calculate_jaccard_similarity_for_lists(actuals, predictions)"
   ]
  },
  {
   "cell_type": "code",
   "execution_count": null,
   "id": "45351ebc-666b-4337-8b39-f39f909a8884",
   "metadata": {},
   "outputs": [],
   "source": [
    "round(sum(similarity) / len(similarity), 4)"
   ]
  },
  {
   "cell_type": "code",
   "execution_count": null,
   "id": "feccde84-da4b-4ef6-a402-964e1a5b1264",
   "metadata": {},
   "outputs": [],
   "source": []
  }
 ],
 "metadata": {
  "kernelspec": {
   "display_name": "Python 3 (ipykernel)",
   "language": "python",
   "name": "python3"
  },
  "language_info": {
   "codemirror_mode": {
    "name": "ipython",
    "version": 3
   },
   "file_extension": ".py",
   "mimetype": "text/x-python",
   "name": "python",
   "nbconvert_exporter": "python",
   "pygments_lexer": "ipython3",
   "version": "3.9.19"
  }
 },
 "nbformat": 4,
 "nbformat_minor": 5
}
